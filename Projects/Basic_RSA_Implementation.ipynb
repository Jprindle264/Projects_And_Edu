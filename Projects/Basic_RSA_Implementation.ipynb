{
 "cells": [
  {
   "cell_type": "markdown",
   "metadata": {},
   "source": [
    "## RSA Implementation"
   ]
  },
  {
   "cell_type": "markdown",
   "metadata": {},
   "source": [
    "Name: Jonathan Prindle\n",
    "<br/>\n",
    "School Project: This comes from a school project. In order to prevent duplication/copying, and to be able to showcase this work, various pieces have been changed. The core content, however, remains the same.\n"
   ]
  },
  {
   "cell_type": "markdown",
   "metadata": {},
   "source": [
    "#### Basic tools\n",
    "\n",
    "These are functions that you'll need to pre-process the messages before the messages are encoded and decoded by the RSA algorithm. Thats the reason we will be defining them first.\n",
    "\n"
   ]
  },
  {
   "cell_type": "code",
   "execution_count": 1,
   "metadata": {},
   "outputs": [
    {
     "name": "stdin",
     "output_type": "stream",
     "text": [
      "Enter Message to Convert:  hello\n"
     ]
    },
    {
     "data": {
      "text/plain": [
       "[104, 101, 108, 108, 111]"
      ]
     },
     "execution_count": 1,
     "metadata": {},
     "output_type": "execute_result"
    }
   ],
   "source": [
    "x = input(\"Enter Message to Convert: \")\n",
    "\n",
    "def Convert_Text(_string):\n",
    "    integer_list = []\n",
    "    for i in _string:                           #A list is created. For every char in string, pass through ord. Ord returns the unicode/ascii for that particular char. This gets passed\n",
    "        y = ord(i)                              #into variable y, which then gets appended to integer_list. The entire list is then returned.\n",
    "        integer_list.append(y)\n",
    "    return integer_list\n",
    "\n",
    "Convert_Text(x)\n"
   ]
  },
  {
   "cell_type": "code",
   "execution_count": 2,
   "metadata": {},
   "outputs": [
    {
     "name": "stdin",
     "output_type": "stream",
     "text": [
      "Enter Integers to Convert:  104, 101, 108, 108, 111\n"
     ]
    },
    {
     "data": {
      "text/plain": [
       "'hello'"
      ]
     },
     "execution_count": 2,
     "metadata": {},
     "output_type": "execute_result"
    }
   ],
   "source": [
    "x = input(\"Enter Integers to Convert: \").split(\",\")\n",
    "#Originally had an independent variable store the split, didn't seem to make sense if I can just tack it on to the end.\n",
    "\n",
    "def Convert_Num(_list):\n",
    "    new_list=[]\n",
    "    for num in _list:                          #For the numbers in _list, convert to int, append to new_list.\n",
    "        new_list.append(int(num))\n",
    "    _string = ''\n",
    "    for i in new_list:                         #For i in new_list, convert i into char, then add to variable _string. Return value.\n",
    "        _string += chr(i)\n",
    "    return _string\n",
    "\n",
    "Convert_Num(x)\n",
    "\n",
    "#Trickiest part was figuring out how to split up the values and read them in. I've got a feeling there's a more efficient way of doing this. However, it works!\n"
   ]
  },
  {
   "cell_type": "code",
   "execution_count": 3,
   "metadata": {},
   "outputs": [
    {
     "name": "stdin",
     "output_type": "stream",
     "text": [
      "Enter Integer: 104\n"
     ]
    },
    {
     "data": {
      "text/plain": [
       "'1101000'"
      ]
     },
     "execution_count": 3,
     "metadata": {},
     "output_type": "execute_result"
    }
   ],
   "source": [
    "x = int(input(\"Enter Integer:\"))\n",
    "\n",
    "def Convert_Binary_String(_int):\n",
    "    bits = bin(_int)[2:]               #I have been researching methods and came across bin. I've also been in a program called CyberStart that has utilized bin so I thought I would try it out\n",
    "    return bits                        #the [2:] splits a portion of the result that the bin function returns that we don't need (so we discard it)!\n",
    "\n",
    "Convert_Binary_String(x)\n",
    "\n"
   ]
  },
  {
   "cell_type": "markdown",
   "metadata": {},
   "source": [
    "Now that you're done with the basic toolset we'll move on to the first tool set which are actually involved in the RSA system."
   ]
  },
  {
   "cell_type": "markdown",
   "metadata": {},
   "source": [
    "### 2.2 \n",
    "#### First tool set.\n",
    "\n"
   ]
  },
  {
   "cell_type": "code",
   "execution_count": 5,
   "metadata": {},
   "outputs": [
    {
     "data": {
      "text/plain": [
       "22"
      ]
     },
     "execution_count": 5,
     "metadata": {},
     "output_type": "execute_result"
    }
   ],
   "source": [
    "#I am using the function I created from week 6.\n",
    "\n",
    "def FME( b, n, m):                                         #b = original number, n =exponent, m =divider\n",
    "    result = 1                                             #set up variables        \n",
    "    square = b\n",
    "    while (n > 0):\n",
    "        if n % 2 == 0:                                     #If exponent mod 2 ==0 then square original number mod m.\n",
    "            square = (square * square) % m\n",
    "            n = n / 2                                      #Divide exponent by two to get new exponent\n",
    "        else:\n",
    "            result = (square * result) % m                 #Else if exponent mod 2 isn't 0, result becomes original number squared mod m and n subtracts 1 to get new n.\n",
    "            n = n - 1\n",
    "    return result\n",
    "    \n",
    "FME(123, 1001, 101)\n"
   ]
  },
  {
   "cell_type": "code",
   "execution_count": 6,
   "metadata": {},
   "outputs": [
    {
     "data": {
      "text/plain": [
       "7"
      ]
     },
     "execution_count": 6,
     "metadata": {},
     "output_type": "execute_result"
    }
   ],
   "source": [
    "#I am using the function I created from week 6, modeled after the lecture function.\n",
    "\n",
    "def Euclidean_Alg(a, b):               \n",
    "    while b > 0:                    #While b is larger then 0\n",
    "        k = a % b                   #k becomes a mod b\n",
    "        a = b                       #a becomes b\n",
    "        b = k                       #b becomes k\n",
    "    return a                        #iterates until the gcd is found.\n",
    "\n",
    "Euclidean_Alg(189, 35)\n"
   ]
  },
  {
   "cell_type": "markdown",
   "metadata": {},
   "source": [
    "### 2.3\n",
    "#### Second tool set\n",
    "\n",
    "Here we will implement the meat of the RSA cryptosystem. The functions below will generate the public and private key pairs which will then be used to create a ciphertext using the public key and then decode the same using the pirvate key.\n",
    "\n"
   ]
  },
  {
   "cell_type": "code",
   "execution_count": 4,
   "metadata": {},
   "outputs": [
    {
     "name": "stdin",
     "output_type": "stream",
     "text": [
      "Enter first prime number:  5\n",
      "Enter second prime number: 11\n"
     ]
    },
    {
     "data": {
      "text/plain": [
       "(3, 55)"
      ]
     },
     "execution_count": 4,
     "metadata": {},
     "output_type": "execute_result"
    }
   ],
   "source": [
    "x = int(input(\"Enter first prime number: \"))\n",
    "y = int(input(\"Enter second prime number:\"))\n",
    "\n",
    "def Find_Public_Key_e(p, q):\n",
    "    if Prime(p) and Prime(q) == True:\n",
    "        n = p * q\n",
    "        n2 = (p - 1) * (q - 1)\n",
    "        for i in range(2, n):\n",
    "            if i is not p:\n",
    "                if i is not q:\n",
    "                    if Euclidean_Alg(i, n2) == 1:\n",
    "                        e=i                                        #An overall list of e's can be generated by removing the return. The code is currently set up to break as soon as\n",
    "                        return e, n                                #the first e that is relatively prime is found. However, if you wanted to choose a different e, you would just remove\n",
    "    else:                                                          #the return value, and print off the resulting i's. I suppose you could also make a list and append the resulting i's.\n",
    "        return \"Not Prime\"       \n",
    "    \n",
    "\n",
    "    \n",
    "    \n",
    "def Prime(x):                                #A function to test whether or not p and q are prime. \n",
    "    if x > 1:\n",
    "        for i in range(2, x):\n",
    "            if (x % i) == 0:\n",
    "                break                        #Break the function if it is not prime. I had to create a similar function last semester for my C programming class at UCCS. Going from\n",
    "        else:                                #C to python is turning out to be a lot easier than I thought it would. Not so sure that python to C would be easy though!\n",
    "            return True\n",
    "\n",
    "def Euclidean_Alg(a, b):                    #Use Euclidean algorithm from earlier.\n",
    "    while b > 0:\n",
    "        k = a % b\n",
    "        a = b\n",
    "        b = k\n",
    "    return a\n",
    "\n",
    "\n",
    "    \n",
    "Find_Public_Key_e(x, y)"
   ]
  },
  {
   "cell_type": "code",
   "execution_count": 8,
   "metadata": {},
   "outputs": [
    {
     "name": "stdin",
     "output_type": "stream",
     "text": [
      "Enter your e:  10\n",
      "Enter (p-1) * (q-1):  40\n"
     ]
    },
    {
     "data": {
      "text/plain": [
       "1"
      ]
     },
     "execution_count": 8,
     "metadata": {},
     "output_type": "execute_result"
    }
   ],
   "source": [
    "x = int(input(\"Enter your e: \"))\n",
    "y = int(input(\"Enter (p-1) * (q-1): \"))\n",
    "\n",
    "def Find_Private_Key_d(e, n):\n",
    "    s_0 = 1                                   #Extended Euclidean Algorithm doing the bulk of the work. The algorithm processes through the e and n. Eventually we'll find an inverse\n",
    "    s_1 = 0                                   #which will get stored into s_0.\n",
    "    t_0 = 0\n",
    "    t_1 = 1\n",
    "    x = e\n",
    "    y = n\n",
    "    while y != 0:\n",
    "        q = x // y\n",
    "        r = x % y\n",
    "        x = y\n",
    "        y = r\n",
    "        s = s_0 - q * s_1\n",
    "        t = t_0 - q * t_1\n",
    "        s_0 = s_1\n",
    "        t_0 = t_1\n",
    "        s_1 = s\n",
    "        t_1 = t                                 #Calculates and returns the inverse\n",
    "    if s_0 < 0:                                 #If s_0 is negative, add original n to it in order to get positive inverse\n",
    "        return s_0 + n\n",
    "    elif s_0 > 0:                               #If s_0 is positive, return positive value.\n",
    "        return s_0\n",
    "    \n",
    "    \n",
    "    \n",
    "    \n",
    "    \n",
    "    \n",
    "    \n",
    "    \n",
    "\n",
    "Find_Private_Key_d(x, y)"
   ]
  },
  {
   "cell_type": "markdown",
   "metadata": {},
   "source": [
    "### 3.\n",
    "#### Putting things all together.\n",
    "\n",
    "1. In this part, you will define two functions `Encode` and `Decode` which will use the public and private keys that you calculated using the above 2 functions in the third toolset.\n",
    "2. Using the public key, the `Encode` function will encode a message and generate the corresponding cipher_text.\n",
    "3. Using the private key, the `Decode` function will decode a ciper_text and recover the original message.\n",
    "\n"
   ]
  },
  {
   "cell_type": "code",
   "execution_count": 3,
   "metadata": {},
   "outputs": [
    {
     "name": "stdin",
     "output_type": "stream",
     "text": [
      "Enter Message:  hi\n"
     ]
    },
    {
     "data": {
      "text/plain": [
       "[492, 761]"
      ]
     },
     "execution_count": 3,
     "metadata": {},
     "output_type": "execute_result"
    }
   ],
   "source": [
    "y = input(\"Enter Message: \")\n",
    "\n",
    "def Encode(n, e, message):\n",
    "    m = Convert_Text(message)                  #Convert message into unicode/ascii\n",
    "    cipher_text=[]                             #Empty list to fill with the cipher\n",
    "    for i in m:                                #Iterate through each converted piece of text\n",
    "        c = FME(i, e, n)                       #Use FME. For each converted ascii take it to the power of e, mod n.\n",
    "        cipher_text.append(c)                  #Append to the list.\n",
    "    return cipher_text\n",
    "\n",
    "#...........................................................................................\n",
    "#Functions utilized in Encode\n",
    "\n",
    "\n",
    "def Convert_Text(_string):\n",
    "    integer_list = []\n",
    "    for i in _string:\n",
    "        y = ord(i)\n",
    "        integer_list.append(y)\n",
    "    return integer_list\n",
    "\n",
    "def FME( b, n, m):                                         \n",
    "    result = 1                                                    \n",
    "    square = b\n",
    "    while (n > 0):\n",
    "        if n % 2 == 0:                                     \n",
    "            square = (square * square) % m\n",
    "            n = n / 2                                      \n",
    "        else:\n",
    "            result = (square * result) % m                 \n",
    "            n = n - 1\n",
    "    return result\n",
    "    \n",
    "Encode(2537, 5, y)"
   ]
  },
  {
   "cell_type": "code",
   "execution_count": 10,
   "metadata": {},
   "outputs": [
    {
     "name": "stdin",
     "output_type": "stream",
     "text": [
      "Cipher:  492, 2102, 1716, 1716, 67\n"
     ]
    },
    {
     "data": {
      "text/plain": [
       "'hello'"
      ]
     },
     "execution_count": 10,
     "metadata": {},
     "output_type": "execute_result"
    }
   ],
   "source": [
    "y =input(\"Cipher: \").split(\",\")\n",
    "y = [int(i) for i in y]                             #I had to research list comprehension for a problem in CSPB 1300. This is an easy way to convert from a string into a int.\n",
    "                                                    #First you split by comma, then for all values in the list, you convert them into integers using a for loop. \n",
    "\n",
    "\n",
    "def Decode(n, d, cipher_text):\n",
    "    messagelst=[]                                    #I created a list to append the converted numbers to, then converted them into ascii. I have a feeling there is a more efficient\n",
    "    for i in cipher_text:                            #way of transforming these numbers.\n",
    "        m = FME(i, d, n)                             #FME converts numbers back to their original form using the inverse.  \n",
    "        messagelst.append(m)                         #Add decoded numbers to messagelst\n",
    "        message = Convert_Num(messagelst)            #Convert these decoded numbers to chars\n",
    "    return message\n",
    "\n",
    "\n",
    "#..................................................................................\n",
    "#Functions utilized in Decode\n",
    "\n",
    "def Convert_Num(_list):\n",
    "    new_list=[]\n",
    "    for num in _list:\n",
    "        new_list.append(int(num))\n",
    "    _string = ''\n",
    "    for i in new_list:\n",
    "        _string += chr(i)\n",
    "    return _string\n",
    "\n",
    "def FME( b, n, m):                                         \n",
    "    result = 1                                                    \n",
    "    square = b\n",
    "    while (n > 0):\n",
    "        if n % 2 == 0:                                     \n",
    "            square = (square * square) % m\n",
    "            n = n / 2                                      \n",
    "        else:\n",
    "            result = (square * result) % m                 \n",
    "            n = n - 1\n",
    "    return result\n",
    "\n",
    "Decode(2537, 1949, y)"
   ]
  },
  {
   "cell_type": "markdown",
   "metadata": {},
   "source": [
    "#### Now the fun begins:"
   ]
  },
  {
   "cell_type": "code",
   "execution_count": 2,
   "metadata": {},
   "outputs": [
    {
     "name": "stdin",
     "output_type": "stream",
     "text": [
      "Select an option (Get Keys, Encode, or Decode):  Get Keys\n",
      "Enter first prime number:  5\n",
      "Enter second prime number: 11\n"
     ]
    },
    {
     "name": "stdout",
     "output_type": "stream",
     "text": [
      "Public Key: e, n are (3, 55)\n",
      "Private Key d: 27\n"
     ]
    }
   ],
   "source": [
    "'''Comments for this code have been added in the following section which breaks down what is going on in the main function.'''\n",
    "\n",
    "def main():\n",
    "    choice = input(\"Select an option (Get Keys, Encode, or Decode): \")\n",
    "    if choice ==\"Get Keys\":\n",
    "        prime1 = int(input(\"Enter first prime number: \"))\n",
    "        prime2 = int(input(\"Enter second prime number:\"))\n",
    "        pubkey = Find_Public_Key_e(prime1, prime2)\n",
    "        print(\"Public Key: e, n are\", pubkey)\n",
    "        if pubkey ==\"Not Prime\":\n",
    "            print(\"Not Prime\")\n",
    "        else:\n",
    "            e=0\n",
    "            e+= pubkey[0]\n",
    "            privkey = Find_Private_Key_d(e, (prime1 -1) * (prime2 - 1))\n",
    "            print(\"Private Key d:\", privkey)\n",
    "            \n",
    "    elif choice ==\"Encode\":\n",
    "        n = int(input(\"Enter n:\"))\n",
    "        exp = int(input(\"Enter e: \"))\n",
    "        message =input(\"Enter message: \")\n",
    "        encoded = Encode(n, exp, message)\n",
    "        print(encoded)\n",
    "        \n",
    "    elif choice ==\"Decode\":\n",
    "        n = int(input(\"Enter n: \"))\n",
    "        d = int(input(\"Enter d: \"))\n",
    "        cipher= input(\"Cipher: \").split(\",\")\n",
    "        cipher =[int(i) for i in cipher] \n",
    "        decoded = Decode(n, d, cipher)\n",
    "        print(decoded)\n",
    "\n",
    "    \n",
    "    \n",
    "#..............................................................................................................\n",
    "#Functions used in main functions\n",
    "\n",
    "def Find_Public_Key_e(p, q):\n",
    "    if Prime(p) and Prime(q) == True:\n",
    "        n = p * q\n",
    "        n2 = (p - 1) * (q - 1)\n",
    "        for i in range(2, n):\n",
    "            if i is not p:\n",
    "                if i is not q:\n",
    "                    if Euclidean_Alg(i, n2) == 1:\n",
    "                        e=i                                        \n",
    "                        return e, n                                \n",
    "    else:                                                          \n",
    "        return \"Not Prime\"       \n",
    "    \n",
    "\n",
    "def Prime(x):                                \n",
    "    if x > 1:\n",
    "        for i in range(2, x):\n",
    "            if (x % i) == 0:\n",
    "                break                        \n",
    "        else:\n",
    "            return True\n",
    "\n",
    "def Euclidean_Alg(a, b):\n",
    "    while b > 0:\n",
    "        k = a % b\n",
    "        a = b\n",
    "        b = k\n",
    "    return a\n",
    "    \n",
    "def Find_Private_Key_d(e, n):\n",
    "    s_0 = 1                                  \n",
    "    s_1 = 0\n",
    "    t_0 = 0\n",
    "    t_1 = 1\n",
    "    x = e\n",
    "    y = n\n",
    "    while y != 0:\n",
    "        q = x // y\n",
    "        r = x % y\n",
    "        x = y\n",
    "        y = r\n",
    "        s = s_0 - q * s_1\n",
    "        t = t_0 - q * t_1\n",
    "        s_0 = s_1\n",
    "        t_0 = t_1\n",
    "        s_1 = s\n",
    "        t_1 = t                                 \n",
    "    if s_0 < 0:                                 \n",
    "        return s_0 + n\n",
    "    elif s_0 > 0:                               \n",
    "        return s_0\n",
    "    \n",
    "def Encode(n, e, message):\n",
    "    m = Convert_Text(message)                  \n",
    "    cipher_text=[]                             \n",
    "    for i in m:                                \n",
    "        c = FME(i, e, n)                           \n",
    "        cipher_text.append(c)                  \n",
    "    return cipher_text\n",
    "\n",
    "\n",
    "def Convert_Text(_string):\n",
    "    integer_list = []\n",
    "    for i in _string:\n",
    "        y = ord(i)\n",
    "        integer_list.append(y)\n",
    "    return integer_list\n",
    "\n",
    "def Decode(n, d, cipher_text):\n",
    "    messagelst=[]                                    \n",
    "    for i in cipher_text:                            \n",
    "        m = FME(i, d, n)                                \n",
    "        messagelst.append(m)\n",
    "        message = Convert_Num(messagelst)\n",
    "    return message\n",
    "\n",
    "\n",
    "def Convert_Num(_list):\n",
    "    new_list=[]\n",
    "    for num in _list:\n",
    "        new_list.append(int(num))\n",
    "    _string = ''\n",
    "    for i in new_list:\n",
    "        _string += chr(i)\n",
    "    return _string\n",
    "\n",
    "def FME( b, n, m):                                         \n",
    "    result = 1                                                    \n",
    "    square = b\n",
    "    while (n > 0):\n",
    "        if n % 2 == 0:                                     \n",
    "            square = (square * square) % m\n",
    "            n = n / 2                                      \n",
    "        else:\n",
    "            result = (square * result) % m                 \n",
    "            n = n - 1\n",
    "    return result\n",
    "\n",
    "    \n",
    "if __name__ == '__main__':\n",
    "    main()\n"
   ]
  },
  {
   "cell_type": "markdown",
   "metadata": {},
   "source": [
    "### 4. \n",
    "\n",
    "#### Demonstrate how your RSA works below, by encoding and decoding a sample message here using your main above and sample inputs. Describe how this works and why you choose to put it together the way you did.\n"
   ]
  },
  {
   "cell_type": "code",
   "execution_count": null,
   "metadata": {},
   "outputs": [],
   "source": [
    "## \"4\" demo here in mix of text and code blocks\n",
    "    main()"
   ]
  },
  {
   "cell_type": "code",
   "execution_count": null,
   "metadata": {},
   "outputs": [],
   "source": [
    "'''I'll be commenting different chunks of my code to give a fuller picture of what I did. Below with each chunk will be an example input/output to show how the code reacted. \n",
    "\n",
    "The very first thing to happen is that you must select an option (Get Keys, Encode, Decode). This is done using a few simple if/Elif statements. If the text corresponds to the correct \n",
    "option it returns true and then enters into that option.\n",
    "\n",
    "The first chunk of code deals with getting the public and private keys from the user.'''\n",
    "\n",
    "\n",
    "\n",
    "    choice = input(\"Select an option (Get Keys, Encode, or Decode): \")              \n",
    "    if choice ==\"Get Keys\":\n",
    "        prime1 = int(input(\"Enter first prime number: \"))                       #Get user input, convert to ints, store in prime 1 and prime 2.\n",
    "        prime2 = int(input(\"Enter second prime number:\"))\n",
    "        pubkey = Find_Public_Key_e(prime1, prime2)                              #pubkey uses the function Find_Public_Key_e. This function multiples p and q to get an n. It then uses the\n",
    "        print(\"Public Key: e, n are\", pubkey)                                   #Euclidean algorithm to cycle through numbers 2 - n (2537 in this case) until it finds a number that is\n",
    "        if pubkey ==\"Not Prime\":                                                #relatively prime to n (cannot be p or q). When this happens it prints out the public key.\n",
    "            print(\"Not Prime\")                                                  #If the numbers presented are not prime, the code returns not prime. \n",
    "        else:\n",
    "            e=0                                                                 #Now we need to find the private key. We do this first by creating a variable e, then storing the e so it\n",
    "            e+= pubkey[0]                                                       #can be used to find the private key. We use the function Find_Private_Key_d which is essentially the\n",
    "            privkey = Find_Private_Key_d(e, (prime1 -1) * (prime2 - 1))         #extended euclidean algorithm in order to find the modular inverse d. You take e and (p-1)(q-1) plug them\n",
    "            print(\"Private Key d:\", privkey)                                    #in, then print out the private key.\n",
    "            \n",
    "            \n",
    "            \n",
    "'''The below input uses first \"Get Keys\" to select what we want to do. The two prime numbers selected were \"43\" and \"59\". This resulted in a public key with an e of \"5\" and n of \"2537\".\n",
    "The modular inverse d came out to 1949. It should be noted that within the function to find the private key, we account for negative numbers by simply adding the n to the resultant\n",
    "value if it is negative. In this case, the modular inverse is -487. So we take -487 + 2436 [aka (p-1)(q-1)] which yields 1949 for d.'''"
   ]
  },
  {
   "cell_type": "markdown",
   "metadata": {},
   "source": [
    "Select an option (Get Keys, Encode, or Decode):  Get Keys\n",
    "\n",
    "Enter first prime number:  43\n",
    "\n",
    "Enter second prime number: 59\n",
    "\n",
    "Public Key: e, n are (5, 2537)\n",
    "\n",
    "Private Key d: 1949\n"
   ]
  },
  {
   "cell_type": "code",
   "execution_count": null,
   "metadata": {},
   "outputs": [],
   "source": [
    "'''If the option of \"Encode\" is chosen, it will encode a message. '''\n",
    "\n",
    "elif choice ==\"Encode\":\n",
    "        n = int(input(\"Enter n:\"))                      #Get user input for n and e, transform these into ints. Then take a string of characters in as a message. These three variables\n",
    "        exp = int(input(\"Enter e: \"))                   #will then get passed into the function Encode. The first thing Encode does is it takes the string of characters and converts them.\n",
    "        message =input(\"Enter message: \")               #This is accomplished using the Convert_Text function. That function simply changes the string character into the corresponding\n",
    "        encoded = Encode(n, exp, message)               #ascii/unicode value. This value is then run through fast modular exponentiation using i^5 mod 2537. This creates our encoded\n",
    "        print(encoded)                                  #message which then gets printed out. In this case the print is [492, 2102, 1716, 1716, 67].\n",
    "\n",
    "'''The below input shows a selection for Encode. The user entered for n, 2537, for e, 5, and for the message \"hello\". After the function encoded the result was [492, 2102, 1716, 1716, 67]'''"
   ]
  },
  {
   "cell_type": "markdown",
   "metadata": {},
   "source": [
    "Select an option (Get Keys, Encode, or Decode):  Encode\n",
    "\n",
    "Enter n: 2537\n",
    "\n",
    "Enter e:  5\n",
    "\n",
    "Enter message:  hello\n",
    "\n",
    "[492, 2102, 1716, 1716, 67]"
   ]
  },
  {
   "cell_type": "code",
   "execution_count": null,
   "metadata": {},
   "outputs": [],
   "source": [
    "'''If option of \"Decode\" is chosen, it will decode a message'''    \n",
    "    \n",
    "    elif choice ==\"Decode\":\n",
    "        n = int(input(\"Enter n: \"))                 #Get user input for n and d, transform them into ints. The cipher input portion was the hardest. I decided to take comma separated\n",
    "        d = int(input(\"Enter d: \"))                 #values from the user, which become strings. These strings have be transformed, and this is done by splitting at the \",\", iterating\n",
    "        cipher= input(\"Cipher: \").split(\",\")        #through and transforming them into ints. These variables are then passed into the Decode function. Inside the Decode function we go\n",
    "        cipher =[int(i) for i in cipher]            #from number to number and use fast modular exponentiation again to transform the numbers. In this case we take the number to the power\n",
    "        decoded = Decode(n, d, cipher)              #of the inverse mod n or i^1949 mod 2537. This decodes the numbers. The numbers are then passed through the function Convert_Num\n",
    "        print(decoded)                              #and deciphered. Once the Decode function is done, is stores its answer in the variable decoded, which gets printed out.\n",
    "\n",
    "'''The user below selected Decode. The user entered for n, 2537, for d, 1949, and the ciper 492, 2102, 1716, 1716, 67. The message that printed out was the original encoded message\n",
    "of \"hello\".'''"
   ]
  },
  {
   "cell_type": "markdown",
   "metadata": {},
   "source": [
    "Select an option (Get Keys, Encode, or Decode):  Decode\n",
    "\n",
    "Enter n:  2537\n",
    "\n",
    "Enter d:  1949\n",
    "\n",
    "Cipher:  492, 2102, 1716, 1716, 67\n",
    "\n",
    "hello"
   ]
  },
  {
   "cell_type": "markdown",
   "metadata": {},
   "source": [
    "### 6.\n",
    "RSA part 2: \n",
    "\n",
    "After you have tested your RSA package yourself, test it with classmates by publishing both the private and public keys on Piazza category for this (this will be a folder separate from Project) for a message. Then post 3 messages with just the public key for people to break - use both very small n ‘s (under 1000) for practice, and some with a challenge.\n",
    "\n",
    "To break others’ code you just need to factor n (public key).\n",
    "\n",
    "Write simple “brute force” method for finding for prime factors of n and use this to try to crack codes.\n",
    "To improve this factoring algorithm, consider THM 2 from page 258.\n",
    "\n",
    "\n",
    "Implementing a factoring algorithm:\n",
    "\n",
    "Implement the basic brute force factorization algorithm shown as pseudo code below to find prime factors of n.\n",
    "\n",
    "Brute Force Factoring\n",
    "\n",
    " def factorize(n):\n",
    "      # n is a number, return the smallest factor of n\n",
    "      for i from 2 to n-1:\n",
    "          if i divides n:\n",
    "\t      return i\n",
    "      return FALSE\n"
   ]
  },
  {
   "cell_type": "code",
   "execution_count": null,
   "metadata": {},
   "outputs": [],
   "source": [
    "## \"6\"  Include your own code for brute force method of finding factors.\n",
    "\n",
    "def Factorization(x):\n",
    "    for i in range(2, x - 1):                     #Iterate from 2 to x-1. If x mod i is equal to 0, print out the factors.\n",
    "        if x % i ==0:\n",
    "            print(i)\n",
    "            \n",
    "Factorization(39203)\n",
    "\n"
   ]
  },
  {
   "cell_type": "code",
   "execution_count": null,
   "metadata": {},
   "outputs": [],
   "source": [
    "## for 9 include code for improvements to factoring algorithm.  Please comment\n",
    "\n",
    "#Improvement number 1\n",
    "'''This turned out to be a lot trickier than I thought. I was having trouble determining how to eliminate even numbers and then it hit me. You can increment the range! So what I ended up\n",
    "doing was creating an if/else statement. If the number n is even, it goes through the original factorization (much slower, but 2 is the only prime even number.). However, if the n is \n",
    "odd, we start the range at three and then increment over 2, I.E. we skip the evens and go through the odds. This halves the range. In my tests, the regular brute force clocks in at .07.\n",
    "This modified version clocks in at around .033, essentially it halves the time. I used the time function that Lawson and Alex suggested in order to test my times on jupyter lab.'''\n",
    "\n",
    "def Factorization(x):\n",
    "    if x % 2 ==0:\n",
    "        for i in range(2, x-1):                       #If even, iterate through 2, x-1.\n",
    "            if x % i ==0:\n",
    "                print(i)\n",
    "    else:\n",
    "        for i in range(3, x-1, 2):                    #If odd, iterate through 3, x-1 for every other range (odd number)\n",
    "            if x % i ==0:\n",
    "                print(i)\n",
    "\n",
    "\n",
    "\n",
    "#Improvement number 2\n",
    "\n",
    "'''The below code is modified so we don't go through every x value. Theorem 2 states \"If n is a composite integer, then n has a prime divisor less than or equal to sqrt(n).\" We know that\n",
    "at least one of the factors will be less then the square root of x. This allows us to drastically cut down on the range. This code iterates through the smaller range, looks for a prime\n",
    "number, then prints that prime number out. Once this prime number is found, we divide our original x by this number to figure out the other prime number (it took a little time to figure\n",
    "this out, but well worth it). This code drastically improves speeds. The regular brute force clocks in at .07. This modified version clocks in at .0002'''\n",
    "\n",
    "def Factorization(x):\n",
    "    for i in range(2, int((x**.5))):                       #Iterate through 2 and the square root of x.\n",
    "        if x % i== 0:                                      #If x mod i is 0, print out x.\n",
    "            print(i)\n",
    "            x = x // i                                     #Divide original x but the i that was prime.\n",
    "            if x > 2:                     \n",
    "                print (x)                                  #Print answer\n",
    "\n",
    "\n",
    "'''I also tried combining both of the improvements but I found that the second improvement made the first improvement somewhat obsolete. Both improvements cut down on the range and in\n",
    "turn cut down on the search time. The first does this by eliminating the evens. The second does this by searching for numbers less then the square root of n, which is drastically smaller.\n",
    "Even when I combined the functions I found that it resulted in similar speeds to the second improvement.\n",
    "\n",
    "I think there are even more efficient ways of factoring numbers. If we were to utilize the sieve of eratosthenes and eliminate all the options on the way to to our prime number I think\n",
    "you could factor some of these bigger numbers more efficiently. I tried to implement ways to take out the mutiples of 3, 5, 7, etc, but had trouble coding those. I'm not at the point yet\n",
    "where I can do those properly and after about 5 hours, I decided to call it.\n",
    "\n",
    "I decided to look at the Pollard Rho algorithm. I attempted to recreate it in python (even in C) but it started to become too much of a time commitment. I saw some examples online, and\n",
    "was able to run a variant on juypter lab in a blank file. The speed and idea behind it were very impressive. '''"
   ]
  }
 ],
 "metadata": {
  "kernelspec": {
   "display_name": "Python 3",
   "language": "python",
   "name": "python3"
  },
  "language_info": {
   "codemirror_mode": {
    "name": "ipython",
    "version": 3
   },
   "file_extension": ".py",
   "mimetype": "text/x-python",
   "name": "python",
   "nbconvert_exporter": "python",
   "pygments_lexer": "ipython3",
   "version": "3.8.5"
  }
 },
 "nbformat": 4,
 "nbformat_minor": 4
}
